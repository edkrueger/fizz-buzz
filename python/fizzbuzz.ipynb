{
 "cells": [
  {
   "cell_type": "code",
   "execution_count": 24,
   "metadata": {},
   "outputs": [],
   "source": [
    "import numpy as np\n",
    "import pandas as pd\n",
    "from timeit import timeit\n",
    "import matplotlib.pyplot as plt"
   ]
  },
  {
   "cell_type": "code",
   "execution_count": 2,
   "metadata": {},
   "outputs": [],
   "source": [
    "# generate a numpy array of size 5000 with integers between 1 and 5000\n",
    "numbers = np.random.randint(1, 5001, 5000)"
   ]
  },
  {
   "cell_type": "code",
   "execution_count": 3,
   "metadata": {},
   "outputs": [],
   "source": [
    "# define the non vectorized-fizzbuzz\n",
    "def fizzbuzz(i):\n",
    "    \n",
    "    \"\"\"\n",
    "    Takes an interger,\n",
    "    returns \"fizzbuzz\" if it is divisible by 3 and 5,\n",
    "    returns \"fizz\" if it is divisible by 3 and not 5,\n",
    "    returns \"buzz\" if it is divisible by 5 and not 3,\n",
    "    otherwise returns the integer convert to a string.\n",
    "    \"\"\"\n",
    "    \n",
    "    if i % (3 * 5) == 0:\n",
    "        return \"fizzbuzz\"\n",
    "    elif i % 3 == 0:\n",
    "        return \"fizz\"\n",
    "    elif i % 5 == 0:\n",
    "        return \"buzz\"\n",
    "    else:\n",
    "        return str(i)"
   ]
  },
  {
   "cell_type": "code",
   "execution_count": 4,
   "metadata": {},
   "outputs": [],
   "source": [
    "# make the python list comprehension version of the function\n",
    "def fizzbuzz_loop(numbers):\n",
    "    \n",
    "    \"\"\"\n",
    "    Takes numbers, an array-like of integers.\n",
    "    Uses a loop to apply fizzbuzz and returns the result as a list.\n",
    "    \"\"\"\n",
    "    \n",
    "    fizzbuzzes = []\n",
    "    \n",
    "    for e in numbers:\n",
    "        fizzbuzzes.append(fizzbuzz(e))\n",
    "        \n",
    "    return fizzbuzzes"
   ]
  },
  {
   "cell_type": "code",
   "execution_count": 5,
   "metadata": {},
   "outputs": [],
   "source": [
    "# make the python list comprehension version of the function\n",
    "def fizzbuzz_lc(numbers):\n",
    "    \n",
    "    \"\"\"\n",
    "    Takes numbers, an array-like of integers.\n",
    "    Uses list comprehension to apply fizzbuzz and returns the result as a list.\n",
    "    \"\"\"\n",
    "    \n",
    "    return [fizzbuzz(e) for e in numbers]"
   ]
  },
  {
   "cell_type": "code",
   "execution_count": 6,
   "metadata": {},
   "outputs": [],
   "source": [
    "# make the python map version of the function\n",
    "def fizzbuzz_map(numbers):\n",
    "    \n",
    "    \"\"\"\n",
    "    Takes numbers, an array-like of integers.\n",
    "    Uses map to apply fizzbuzz and returns the result as a list.\n",
    "    \"\"\"\n",
    "    \n",
    "    return list(map(fizzbuzz, numbers))"
   ]
  },
  {
   "cell_type": "code",
   "execution_count": 7,
   "metadata": {},
   "outputs": [],
   "source": [
    "# make the pandas version of the function\n",
    "def fizzbuzz_pandas(numbers):\n",
    "    \n",
    "    \"\"\"\n",
    "    Takes numbers, an array-like of integers, converts to a pd.Series.\n",
    "    Uses Series.apply() to apply fizzbuzz() and returns the result as a list.\n",
    "    \"\"\"\n",
    "    \n",
    "    return list(pd.Series(numbers).apply(fizzbuzz))\n",
    "    "
   ]
  },
  {
   "cell_type": "code",
   "execution_count": 8,
   "metadata": {},
   "outputs": [],
   "source": [
    "# make the numpy version of the function\n",
    "fizzbuzz_vectorized = np.vectorize(fizzbuzz)\n",
    "\n",
    "# modify the docstring for fun\n",
    "fizzbuzz_vectorized.__doc__ = \"\"\"\n",
    "    IS a vectorized version of fizzbuzz().\n",
    "    Takes numbers, an array-like of integers.\n",
    "    Returns the corresponding fizzbuzzed array as an np.array.\n",
    "    \"\"\""
   ]
  },
  {
   "cell_type": "code",
   "execution_count": 9,
   "metadata": {},
   "outputs": [
    {
     "data": {
      "text/plain": [
       "True"
      ]
     },
     "execution_count": 9,
     "metadata": {},
     "output_type": "execute_result"
    }
   ],
   "source": [
    "# verify that all of the results are the same\n",
    "results = [\n",
    "            fizzbuzz_loop(numbers),\n",
    "            fizzbuzz_lc(numbers),\n",
    "            fizzbuzz_map(numbers),\n",
    "            list(fizzbuzz_pandas(numbers)),\n",
    "            list(fizzbuzz_vectorized(numbers))\n",
    "        ]\n",
    "\n",
    "all([a == results[0] for a in  results])"
   ]
  },
  {
   "cell_type": "code",
   "execution_count": 10,
   "metadata": {},
   "outputs": [],
   "source": [
    "def time_function(reps, func, *args):\n",
    "    \n",
    "    \"\"\"\n",
    "    passes *args into a func and times func(*args)\n",
    "    repeats reps times\n",
    "    returns average time in milliseconds(ms)\n",
    "    \"\"\"\n",
    "\n",
    "    def no_args():\n",
    "        return func(*args)\n",
    "    \n",
    "    avg_time = timeit(no_args, number=reps) / reps\n",
    "    \n",
    "    return avg_time * 1000"
   ]
  },
  {
   "cell_type": "code",
   "execution_count": 11,
   "metadata": {},
   "outputs": [
    {
     "data": {
      "text/plain": [
       "8.070377400144935"
      ]
     },
     "execution_count": 11,
     "metadata": {},
     "output_type": "execute_result"
    }
   ],
   "source": [
    "time_function(10, fizzbuzz_loop, numbers)"
   ]
  },
  {
   "cell_type": "code",
   "execution_count": 12,
   "metadata": {},
   "outputs": [],
   "source": [
    "def time_fizzbuzz(func, vector_length, data_reps = 10, reps = 10):\n",
    "    \n",
    "    \"\"\"\n",
    "    Time the execution of a fizzbuzz implementation\n",
    "    on a vector of length vector_length\n",
    "    over data_reps different vectors, reps times,\n",
    "    returns the average time.\n",
    "    \n",
    "    Arguments\n",
    "    -------------------------------------------\n",
    "    func (function) : the fizzbuzz implementation\n",
    "    vector_length (int) : the length of the vector to put into fizzbuzz\n",
    "    data_reps (int) : the numer of different vectors to test on\n",
    "    reps (int) : the number of reps to use to test each vector\n",
    "    \"\"\"\n",
    "    \n",
    "    total_time = 0\n",
    "    \n",
    "    for i in range(0, data_reps):\n",
    "        \n",
    "        numbers = np.random.randint(1, 5001, vector_length)\n",
    "        inst_time = time_function(reps, func, numbers)\n",
    "        total_time += inst_time\n",
    "\n",
    "    avg_time = total_time / data_reps\n",
    "    \n",
    "    return avg_time"
   ]
  },
  {
   "cell_type": "code",
   "execution_count": 13,
   "metadata": {},
   "outputs": [],
   "source": [
    "ord_mag = 5\n",
    "lengths = [10 ** n for n in range(0, ord_mag + 1)]"
   ]
  },
  {
   "cell_type": "code",
   "execution_count": null,
   "metadata": {},
   "outputs": [],
   "source": []
  },
  {
   "cell_type": "code",
   "execution_count": 14,
   "metadata": {},
   "outputs": [],
   "source": [
    "time_object = [\n",
    "    {\n",
    "        \"length\":length,\n",
    "        \"loop_time\": time_fizzbuzz(fizzbuzz_loop, length),\n",
    "        \"lc_time\": time_fizzbuzz(fizzbuzz_lc, length),\n",
    "        \"map_time\": time_fizzbuzz(fizzbuzz_map, length),\n",
    "        \"pandas_time\": time_fizzbuzz(fizzbuzz_pandas, length),\n",
    "        \"vectorized_time\": time_fizzbuzz(fizzbuzz_vectorized, length)\n",
    "    } \n",
    "    \n",
    "    for length in lengths\n",
    "]"
   ]
  },
  {
   "cell_type": "code",
   "execution_count": 28,
   "metadata": {},
   "outputs": [
    {
     "data": {
      "image/png": "[encoded data removed]",
      "text/plain": [
       "<Figure size 432x288 with 1 Axes>"
      ]
     },
     "metadata": {},
     "output_type": "display_data"
    }
   ],
   "source": [
    "pd.DataFrame(time_object).set_index(\"length\").plot()\n",
    "plt.title(\"Time Comparison of fizzbuzz Functions\")\n",
    "plt.xlabel(\"Length of Vectors\")\n",
    "plt.ylabel(\"Average Time (ms)\")\n",
    "plt.show()"
   ]
  }
 ],
 "metadata": {
  "kernelspec": {
   "display_name": "Python 3",
   "language": "python",
   "name": "python3"
  },
  "language_info": {
   "codemirror_mode": {
    "name": "ipython",
    "version": 3
   },
   "file_extension": ".py",
   "mimetype": "text/x-python",
   "name": "python",
   "nbconvert_exporter": "python",
   "pygments_lexer": "ipython3",
   "version": "3.6.6"
  }
 },
 "nbformat": 4,
 "nbformat_minor": 2
}
