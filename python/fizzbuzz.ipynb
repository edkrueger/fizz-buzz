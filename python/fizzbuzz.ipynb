{
 "cells": [
  {
   "cell_type": "code",
   "execution_count": 1,
   "metadata": {},
   "outputs": [],
   "source": [
    "import numpy as np\n",
    "import pandas as pd"
   ]
  },
  {
   "cell_type": "code",
   "execution_count": 2,
   "metadata": {},
   "outputs": [],
   "source": [
    "# generate a numpy array of size 5000 with integers between 1 and 5000\n",
    "numbers = np.random.randint(1,5001,5000)"
   ]
  },
  {
   "cell_type": "code",
   "execution_count": 3,
   "metadata": {},
   "outputs": [],
   "source": [
    "# define the non vectorized-fizzbuzz\n",
    "def fizzbuzz(i):\n",
    "    \n",
    "    \"\"\"\n",
    "    Takes an interger,\n",
    "    returns \"fizzbuzz\" if it is divisible by 3 and 5,\n",
    "    returns \"fizz\" if it is divisible by 3 and not 5,\n",
    "    returns \"buzz\" if it is divisible by 5 and not 3,\n",
    "    otherwise returns the integer convert to a string.\n",
    "    \"\"\"\n",
    "    \n",
    "    if i % (3 * 5) == 0:\n",
    "        return \"fizzbuzz\"\n",
    "    elif i % 3 == 0:\n",
    "        return \"fizz\"\n",
    "    elif i % 5 == 0:\n",
    "        return \"buzz\"\n",
    "    else:\n",
    "        return str(i)"
   ]
  },
  {
   "cell_type": "code",
   "execution_count": 4,
   "metadata": {},
   "outputs": [],
   "source": [
    "# make the python list comprehension version of the function\n",
    "def fizzbuzz_loop(numbers):\n",
    "    \n",
    "    \"\"\"\n",
    "    Takes numbers, an array-like of integers.\n",
    "    Uses a loop to apply fizzbuzz and returns the result as a list.\n",
    "    \"\"\"\n",
    "    \n",
    "    fizzbuzzes = []\n",
    "    \n",
    "    for e in numbers:\n",
    "        fizzbuzzes.append(fizzbuzz(e))\n",
    "        \n",
    "    return fizzbuzzes"
   ]
  },
  {
   "cell_type": "code",
   "execution_count": 5,
   "metadata": {},
   "outputs": [],
   "source": [
    "# make the python list comprehension version of the function\n",
    "def fizzbuzz_lc(numbers):\n",
    "    \n",
    "    \"\"\"\n",
    "    Takes numbers, an array-like of integers.\n",
    "    Uses list comprehension to apply fizzbuzz and returns the result as a list.\n",
    "    \"\"\"\n",
    "    \n",
    "    return [fizzbuzz(e) for e in numbers]"
   ]
  },
  {
   "cell_type": "code",
   "execution_count": 6,
   "metadata": {},
   "outputs": [],
   "source": [
    "# make the python map version of the function\n",
    "def fizzbuzz_map(numbers):\n",
    "    \n",
    "    \"\"\"\n",
    "    Takes numbers, an array-like of integers.\n",
    "    Uses map to apply fizzbuzz and returns the result as a list.\n",
    "    \"\"\"\n",
    "    \n",
    "    return list(map(fizzbuzz, numbers))"
   ]
  },
  {
   "cell_type": "code",
   "execution_count": 7,
   "metadata": {},
   "outputs": [],
   "source": [
    "# make the pandas version of the function\n",
    "def fizzbuzz_pandas(numbers):\n",
    "    \n",
    "    \"\"\"\n",
    "    Takes numbers, an array-like of integers, converts to a pd.Series.\n",
    "    Uses Series.apply() to apply fizzbuzz() and returns the result as a list.\n",
    "    \"\"\"\n",
    "    \n",
    "    return list(pd.Series(numbers).apply(fizzbuzz))\n",
    "    "
   ]
  },
  {
   "cell_type": "code",
   "execution_count": 8,
   "metadata": {},
   "outputs": [],
   "source": [
    "# make the numpy version of the function\n",
    "fizzbuzz_vectorized = np.vectorize(fizzbuzz)\n",
    "\n",
    "# modify the docstring for fun\n",
    "fizzbuzz_vectorized.__doc__ = \"\"\"\n",
    "    IS a vectorized version of fizzbuzz().\n",
    "    Takes numbers, an array-like of integers.\n",
    "    Returns the corresponding fizzbuzzed array as an np.array.\n",
    "    \"\"\""
   ]
  },
  {
   "cell_type": "code",
   "execution_count": 9,
   "metadata": {},
   "outputs": [
    {
     "data": {
      "text/plain": [
       "True"
      ]
     },
     "execution_count": 9,
     "metadata": {},
     "output_type": "execute_result"
    }
   ],
   "source": [
    "# verify that all of the results are the same\n",
    "results = [\n",
    "            fizzbuzz_loop(numbers),\n",
    "            fizzbuzz_lc(numbers),\n",
    "            fizzbuzz_map(numbers),\n",
    "            list(fizzbuzz_pandas(numbers)),\n",
    "            list(fizzbuzz_vectorized(numbers))\n",
    "        ]\n",
    "\n",
    "all([a == results[0] for a in  results])"
   ]
  }
 ],
 "metadata": {
  "kernelspec": {
   "display_name": "Python 3",
   "language": "python",
   "name": "python3"
  },
  "language_info": {
   "codemirror_mode": {
    "name": "ipython",
    "version": 3
   },
   "file_extension": ".py",
   "mimetype": "text/x-python",
   "name": "python",
   "nbconvert_exporter": "python",
   "pygments_lexer": "ipython3",
   "version": "3.6.6"
  }
 },
 "nbformat": 4,
 "nbformat_minor": 2
}
